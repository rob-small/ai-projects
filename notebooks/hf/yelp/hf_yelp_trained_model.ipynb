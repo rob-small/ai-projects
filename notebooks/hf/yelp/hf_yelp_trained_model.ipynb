{
 "cells": [
  {
   "cell_type": "code",
   "execution_count": 1,
   "metadata": {
    "id": "35V8jnc2b2f0",
    "outputId": "4a131c21-91c2-4dee-c48e-5cbce96bd49e"
   },
   "outputs": [
    {
     "name": "stderr",
     "output_type": "stream",
     "text": [
      "/usr/local/lib/python3.10/dist-packages/tqdm/auto.py:21: TqdmWarning: IProgress not found. Please update jupyter and ipywidgets. See https://ipywidgets.readthedocs.io/en/stable/user_install.html\n",
      "  from .autonotebook import tqdm as notebook_tqdm\n"
     ]
    }
   ],
   "source": [
    "from datasets import load_dataset"
   ]
  },
  {
   "cell_type": "code",
   "execution_count": 2,
   "metadata": {
    "id": "35V8jnc2b2f0",
    "outputId": "4a131c21-91c2-4dee-c48e-5cbce96bd49e"
   },
   "outputs": [],
   "source": [
    "dataset = load_dataset(\"yelp_review_full\")"
   ]
  },
  {
   "cell_type": "code",
   "execution_count": 3,
   "metadata": {},
   "outputs": [
    {
     "data": {
      "text/plain": [
       "DatasetDict({\n",
       "    train: Dataset({\n",
       "        features: ['label', 'text'],\n",
       "        num_rows: 650000\n",
       "    })\n",
       "    test: Dataset({\n",
       "        features: ['label', 'text'],\n",
       "        num_rows: 50000\n",
       "    })\n",
       "})"
      ]
     },
     "execution_count": 3,
     "metadata": {},
     "output_type": "execute_result"
    }
   ],
   "source": [
    "dataset"
   ]
  },
  {
   "cell_type": "code",
   "execution_count": 4,
   "metadata": {
    "id": "35V8jnc2b2f0",
    "outputId": "4a131c21-91c2-4dee-c48e-5cbce96bd49e"
   },
   "outputs": [
    {
     "data": {
      "text/plain": [
       "{'label': 0,\n",
       " 'text': \"Owning a driving range inside the city limits is like a license to print money.  I don't think I ask much out of a driving range.  Decent mats, clean balls and accessible hours.  Hell you need even less people now with the advent of the machine that doles out the balls.  This place has none of them.  It is april and there are no grass tees yet.  BTW they opened for the season this week although it has been golfing weather for a month.  The mats look like the carpet at my 107 year old aunt Irene's house.  Worn and thread bare.  Let's talk about the hours.  This place is equipped with lights yet they only sell buckets of balls until 730.  It is still light out.  Finally lets you have the pit to hit into.  When I arrived I wasn't sure if this was a driving range or an excavation site for a mastodon or a strip mining operation.  There is no grass on the range. Just mud.  Makes it a good tool to figure out how far you actually are hitting the ball.  Oh, they are cash only also.\\\\n\\\\nBottom line, this place sucks.  The best hope is that the owner sells it to someone that actually wants to make money and service golfers in Pittsburgh.\"}"
      ]
     },
     "execution_count": 4,
     "metadata": {},
     "output_type": "execute_result"
    }
   ],
   "source": [
    "dataset[\"train\"][10]"
   ]
  },
  {
   "cell_type": "code",
   "execution_count": 5,
   "metadata": {},
   "outputs": [
    {
     "data": {
      "text/plain": [
       "{'label': ClassLabel(names=['1 star', '2 star', '3 stars', '4 stars', '5 stars'], id=None),\n",
       " 'text': Value(dtype='string', id=None)}"
      ]
     },
     "execution_count": 5,
     "metadata": {},
     "output_type": "execute_result"
    }
   ],
   "source": [
    "dataset[\"train\"].features"
   ]
  },
  {
   "cell_type": "markdown",
   "metadata": {
    "id": "mSn-A03mb2f1"
   },
   "source": [
    "As you now know, you need a tokenizer to process the text and include a padding and truncation strategy to handle any variable sequence lengths. To process your dataset in one step, use 🤗 Datasets [`map`](https://huggingface.co/docs/datasets/process.html#map) method to apply a preprocessing function over the entire dataset:"
   ]
  },
  {
   "cell_type": "code",
   "execution_count": 6,
   "metadata": {
    "id": "ur9Ee3d0b2f1"
   },
   "outputs": [],
   "source": [
    "from transformers import AutoTokenizer\n",
    "\n",
    "tokenizer = AutoTokenizer.from_pretrained(\"bert-base-cased\")"
   ]
  },
  {
   "cell_type": "code",
   "execution_count": 7,
   "metadata": {
    "id": "ur9Ee3d0b2f1"
   },
   "outputs": [],
   "source": [
    "def tokenize_function(examples):\n",
    "    return tokenizer(examples[\"text\"], padding=\"max_length\", truncation=True)"
   ]
  },
  {
   "cell_type": "code",
   "execution_count": 8,
   "metadata": {
    "id": "ur9Ee3d0b2f1"
   },
   "outputs": [],
   "source": [
    "tokenized_datasets = dataset.map(tokenize_function, batched=True)"
   ]
  },
  {
   "cell_type": "markdown",
   "metadata": {
    "id": "r_cDbvJCb2f2"
   },
   "source": [
    "If you like, you can create a smaller subset of the full dataset to fine-tune on to reduce the time it takes:"
   ]
  },
  {
   "cell_type": "code",
   "execution_count": 9,
   "metadata": {
    "id": "r_cDbvJCb2f2"
   },
   "outputs": [],
   "source": [
    "small_train_dataset = tokenized_datasets[\"train\"].shuffle(seed=42).select(range(1000))\n",
    "small_eval_dataset = tokenized_datasets[\"test\"].shuffle(seed=42).select(range(1000))\n",
    "small_validation_dataset = tokenized_datasets[\"test\"].shuffle(seed=42).select(range(1000,2000))"
   ]
  },
  {
   "cell_type": "markdown",
   "metadata": {
    "id": "0o_BFNzwb2f2"
   },
   "source": [
    "<a id='trainer'></a>"
   ]
  },
  {
   "cell_type": "code",
   "execution_count": 10,
   "metadata": {
    "id": "WABoNXTVb2f3"
   },
   "outputs": [
    {
     "name": "stderr",
     "output_type": "stream",
     "text": [
      "Some weights of BertForSequenceClassification were not initialized from the model checkpoint at bert-base-cased and are newly initialized: ['classifier.bias', 'classifier.weight']\n",
      "You should probably TRAIN this model on a down-stream task to be able to use it for predictions and inference.\n"
     ]
    }
   ],
   "source": [
    "from transformers import AutoModelForSequenceClassification\n",
    "\n",
    "base_model = AutoModelForSequenceClassification.from_pretrained(\"bert-base-cased\", num_labels=5)"
   ]
  },
  {
   "cell_type": "code",
   "execution_count": 11,
   "metadata": {},
   "outputs": [
    {
     "data": {
      "text/plain": [
       "{0: 'LABEL_0', 1: 'LABEL_1', 2: 'LABEL_2', 3: 'LABEL_3', 4: 'LABEL_4'}"
      ]
     },
     "execution_count": 11,
     "metadata": {},
     "output_type": "execute_result"
    }
   ],
   "source": [
    "base_model.config.id2label"
   ]
  },
  {
   "cell_type": "code",
   "execution_count": 12,
   "metadata": {
    "id": "WABoNXTVb2f3"
   },
   "outputs": [],
   "source": [
    "trained_model = AutoModelForSequenceClassification.from_pretrained(\"models/bert_base_cased/yelp\", num_labels=5)"
   ]
  },
  {
   "cell_type": "code",
   "execution_count": 13,
   "metadata": {},
   "outputs": [],
   "source": [
    "from transformers import pipeline\n",
    "\n",
    "pipe_base = pipeline(\n",
    "    \"text-classification\",\n",
    "    model=base_model,\n",
    "    batch_size=8,\n",
    "    tokenizer=tokenizer,\n",
    "    device=0,\n",
    "    top_k=1\n",
    ")\n",
    "\n",
    "pipe_trained = pipeline(\n",
    "    \"text-classification\",\n",
    "    model=trained_model,\n",
    "    batch_size=8,\n",
    "    tokenizer=tokenizer,\n",
    "    device=0,\n",
    "    top_k=1\n",
    ")"
   ]
  },
  {
   "cell_type": "code",
   "execution_count": 15,
   "metadata": {},
   "outputs": [
    {
     "name": "stdout",
     "output_type": "stream",
     "text": [
      "Review Text Hefty portions, great value, homey comfortable service: not overly efficient, but not slow either. Stick to T-Bird specialties and typical fare. Being adventurous doesn't pay here. Ask the waiter what's cooking to find the best options. Pros: Cheap, hefty, homemade feel. Cons: distinct bar atmosphere, poor atypical fare.\n",
      "Model prediction (trained):  [[{'label': 'LABEL_2', 'score': 0.6693612337112427}]]\n",
      "Label  2\n",
      "Review Text DO NOT GO HERE.  We bought a bouquet for $50 that only lasted 2 DAYS.  I used to work in a flower shop and flowers should be lasting longer than that.  I am NOT HAPPY.  MONEY DOWN THE DRAIN\n",
      "Model prediction (trained):  [[{'label': 'LABEL_0', 'score': 0.8262115120887756}]]\n",
      "Label  0\n",
      "Review Text Cannot recommend before safety standards are improved. \\n\\nPros: courteous, professional shuttle drivers who are punctual; office was helpful in rescheduling due to my delayed flight\\n\\nCons: Loose safety procedures. My single seat buggy lacked left foot rest, four point belt was checked only after I asked. Was not told which group to follow, turned out I was w the guide and two company mechanics, yet I was constantly left in the dust due to my groups familiarity and my sub standard buggy w reduced power. Trying hard to keep up, my buggy gave up half way up a slope the others cleared. I was told that some buggies were beat up so didn't perform well. Not one buggy had a raised flag; this combined w a group that weaved in and out, I lost the group often in the dunes. We were told to follow the guides path bc wavering just 10 ft could result in serious injury: on two occasions I lost the group and hit violent falls. Finally, when it's time to park, one of the staffs buggy rear ends mine, causing a not insignificant whiplash. All I heard was another staff jeer \\\"what the f r u doing?\\\" followed by more banter among the staff. No apologies, as if rude behavior explained the \\\"it's all in good fun\\\" attitude towards this potentially dangerous sport. \\n\\nI've done experience events w skip barber and Infineon raceway; all very professionally run and ran strict safety procedures. Sun Buggy feels run by frat brothers who believe the periodical \\\"r u having fun dude\\\" is equal to safe and fun.\n",
      "Model prediction (trained):  [[{'label': 'LABEL_1', 'score': 0.6593058705329895}]]\n",
      "Label  1\n",
      "Review Text I don't like giving 5's, so a 4, nice to have a Guinness, and a Guinness stew. Wife had a Sheppard's pie and was happy. Should use real mash potatoes. Servings on the large size. The fish and chips could help feed the 5000. For Vegas not bad value. Good selection of beers.\n",
      "Model prediction (trained):  [[{'label': 'LABEL_3', 'score': 0.6670997738838196}]]\n",
      "Label  3\n",
      "Review Text First to review, now the last.\\nStopped by to see Hiro and Shige at \\\"Shiro Sushi\\\" last night and there is a note on the door.\\n\\n\\\"Couldn't make it through the slow times\\\".\\n\\nToo bad.\\nHopefully we will find them elsewhere soon.\\nTJ\n",
      "Model prediction (trained):  [[{'label': 'LABEL_1', 'score': 0.7284833192825317}]]\n",
      "Label  0\n",
      "Review Text Pretty good place. Tasted fresh. I wish the shrimp ceviche was a bit more limey, and spicier. They are also kinda stingy on the toastadas lol, I had to end up using crackers to eat my shrimp . Fish tacos were really good as well. Overall, I will come back again.\n",
      "Model prediction (trained):  [[{'label': 'LABEL_2', 'score': 0.7237241268157959}]]\n",
      "Label  2\n",
      "Review Text Never eating at a Denny's in Vegas again.. I thought it was just the Denny's on fort apache and trop but I guess it's this one as well.. First of all the establishment is filthy! They need a surprise health inspection ASAP! My glass came out with lipstick on it so I asked for another glass and the server just looked at me like I ugh.. Okay!?! Then our food came out and it was swimming in oil.. Hmmm yummy! Then I notice hair in my food =\\\\  can you say gross! After that I completely lost my appetite.. Never again..\n",
      "Model prediction (trained):  [[{'label': 'LABEL_0', 'score': 0.7153217196464539}]]\n",
      "Label  0\n",
      "Review Text I booked this thru the online website of Paradise Found Tours which links to Grand Canyon Tour & Travel for $80 a person for the South Rim bus tour.  You can have them drop you off and pick you up on another day but that would require you purchasing 2 tickets.\\nWe got picked up on a smaller bus and taken to planet hollywood to check in and get our bottle of water, coffee and small danish for breakfast.\\nOur bus driver Earl was very rude and not at all friendly.  He determines who gets to sit where and was the bus Nazi.  I understand we are on a time crunch but he could have been more nice or bring on a tour guide that would be nice.\\n1st stop was at hoover dam for a 10 min break and picture taking opt.\\n2nd stop was at a truck stop with a Subways in Kingman City.\\n3rd stop was a buffet lunch.  They sat us with another set of people so we would fill up the table of 4.\\nThen we got to the Grand Canyon and made 2 stop was at two view points.  Each stop we were given 1 hour and was threaten they would leave us if we are not back.  They left 2 people at the first stop.  He dropped us off at the 2nd stop and went back to get the people left behind.\\nAt lunch he was yelling at a single international guy that probably did not understand him very well.  They were missing 2 people and the guy walked on the bus by himself.  He was yelled off the bus to find his friend.  Then another girl on the bus spoke up that her friend was not there and then the guy was let on the bus.  Then the bus driver yelled at the lady for being late and told her to stick to her friend from now on.\\nVery rude bus driver.  We did not get the 3 hours as promised on the website.  It said we get picked up later than other tour companies but they made us wait at the stop at 5:45 but didn't pick us up until 6:10am.  Then we went to pick up a bus full of people from other places.  At the end, even though we passed by downtown Fremont they did not let us get off first and dropped us off last again.  \\nOver 10 hours trip to see the grand canyon for 2 hours and have a rude driver, don't do it.  Find a better company without the false advertisements.\n",
      "Model prediction (trained):  [[{'label': 'LABEL_0', 'score': 0.6904294490814209}]]\n",
      "Label  0\n",
      "Review Text If you pay the $7 24 hour pass and plan to go down up and down The Strip for that long then The Deuce is the way to go! It is easy to spot The Deuce because it is a gold double decker bus. Often times the bus is jammed packed and at one stop they had to turn passengers away because they were too full. Probably a common occurrence for the bus drivers to do when driving The Strip. Despite those inconveniences walking or taking The Deuce is really the best way to get around on The Strip because driving is a real pain in the ass and it doesn't help when there are loads of inconsiderate Nevada drivers on the roads as well as tourists who are driving and don't haven a clue to what they are doing! That doesn't stop from taxi drivers from beeping at you with their horns when you are in a crosswalk and in their way though!\n",
      "Model prediction (trained):  [[{'label': 'LABEL_2', 'score': 0.4573558568954468}]]\n",
      "Label  2\n",
      "Review Text Best coffee in the area! I had their red velvet latte today and nothing else even compares. Friendly employees and cozy atmosphere inside too! My only complaint is it's a little pricey. I'm also a little surprised they don't have any high chairs, but overall I'm happy to give them my business and I will definitely be back!\n",
      "Model prediction (trained):  [[{'label': 'LABEL_3', 'score': 0.5954571962356567}]]\n",
      "Label  3\n",
      "Review Text From the moment we were sat, we waited for almost 10 minutes to be greeted by our server.  The restaurant was empty by the way...we were the only poeple in there.  When we asked about the menu, we got the vaguest descriptions of the sushi rolls.  Being the only table In the restaurant, we were surprised that our order took extra long.  The server never came back and out drinks were not refilled.  Part of our order was finally delivered but our appetizer was not to be seen.  We were finally told that there was a problem in the kitchen and a few minutes later the appetizer and second roll arrived. You would think. Being the only table in the restaurant, everything would be perfect.  Not the case.  Maybe that is why they are so super slow for lunch?  We'll go back to RA next time. :(\n",
      "Model prediction (trained):  [[{'label': 'LABEL_0', 'score': 0.8618162870407104}]]\n",
      "Label  0\n",
      "Review Text I rode along with a friend to Scottsdale for the day and she treated me to lunch. We ended up going to Stingray Sushi near the Fashion Square Mall. They have a great patio to sit out on and enjoy a nice day in AZ. The sushi was good we got a Vegas roll a Philli roll and a California roll pretty standard and then a order of chicken yakitori. Between three of us it was plenty and our friend had plenty left over to take home which was good. The Vegas roll was mildly soggy from all the eel sauce when it got to us and the chicken was dry but it still tasted alright. The service was pretty good both times i have been. I would go if i was in the neighborhood and wanted sushi.\n",
      "Model prediction (trained):  [[{'label': 'LABEL_2', 'score': 0.5468785166740417}]]\n",
      "Label  2\n",
      "Review Text ugh....well, let me start over. absolutely great music. beautiful people. but you will PAY! 15 bucks a drink (luckily we got pretty wasted on a case or two of supermarket beer before going over), so we only had one each. \\n\\nand it's the first time i've ever given the door man money to let us in a club. my wife and her friend...no problem. 2 hot chicks...but then i was the tagalong, so they wouldn't let me in with them. \\n\\nfinally got in and luckily didn't have to pay cover (you get bombarded with free passes up and down the strip) but once inside.....felt like i was a big baller. \\n\\nso maybe i should give it more stars but the freaking door man....in defense, i guess it was halloween weekend and this is after all Fity Cents club.\n",
      "Model prediction (trained):  [[{'label': 'LABEL_3', 'score': 0.7544851303100586}]]\n",
      "Label  1\n",
      "Review Text I just bought a house and needed my doors re-locked.  Called around 9:30 and Toby was there by 1:00pm.  He was courteous, professional and knowledgeable.  Would definitely recommend him to anyone needing a great locksmith.\\nThanks!\n",
      "Model prediction (trained):  [[{'label': 'LABEL_4', 'score': 0.8199943900108337}]]\n",
      "Label  4\n",
      "Review Text i visited on jan 19 and ordered the thai basil (their signature dish) with calamari, which had a very unique flavor that was a bit masked by the spiciness. i'm a wimp when it comes to spices, and i was overwhelmed by the medium i ordered. though the dish was very good, it was, for a dish dish consisting mostly of vegetables, on the scant side for 11.95. \\n\\nmy friend ordered a curry, and it was a sizable portion, presented in a clay pot. i sneaked a bite, and it was very good too.\\n\\nthe place is comfortable and intimate, with booths and tables, and the wait staff is very friendly.\n"
     ]
    },
    {
     "name": "stderr",
     "output_type": "stream",
     "text": [
      "/usr/local/lib/python3.10/dist-packages/transformers/pipelines/base.py:1101: UserWarning: You seem to be using the pipelines sequentially on GPU. In order to maximize efficiency please use a dataset\n",
      "  warnings.warn(\n"
     ]
    },
    {
     "name": "stdout",
     "output_type": "stream",
     "text": [
      "Model prediction (trained):  [[{'label': 'LABEL_2', 'score': 0.458805650472641}]]\n",
      "Label  2\n",
      "Review Text Had dinner last night.  I ordered calamari from our waiter who called himself \\\"meatball,\\\" and I  asked if he had tarter sauce.  He said they did not have tarter sauce. I asked if he had any mayo (I could make my own).  He said to me \\\"I'm not making you tarter sauce,\\\" then turned his head and mouthed some obscene remark.  I was very insulted.    After dinner I paid the bill and gave him a 10% tip instead of my standard 20% and on the check I added a message that he insulted me and I'd see him on Yelp.  He ran after me where I was standing at the curb, irrationally and aggressively talking about the tarter sauce.  I tried to explain that he totally missed the point, and that it was how he handled my request, but he wouldn't listen.  He told me to get off the  (public) property or he would call the police.  My husband thought \\\"meatball,\\\" a 350 pound guy, was going to hit me.  The whole scene was a nightmare.  This is the first time I have critiqued a restaurant on Yelp and I was astounded at the depth of the negative reviews.\n",
      "Model prediction (trained):  [[{'label': 'LABEL_0', 'score': 0.9120993614196777}]]\n",
      "Label  0\n",
      "Review Text I was extremely excited to finally eat here! in the end.. I was very disappointed.\\n\\nMy boyfriend and I love oysters! Being an oyster bar we thought it must be fresh and delicious! Holy crap was the oysters shitty!  We could not believe how dirty the oysters were! They did not take the liberty to rinse or scrub the oysters shells before prying them open.  I do not think they were fresh! We bough a dozen and could barely finish half.. My boyfriend almost yacked up one of them because it was already bad.  It was already hard enough trying to eat the dirty oysters..after eating the bad one we noticed the couple others didn't look good.  The worker at the end never took our plate away until the end asking if we were going to finish it.. yeah we just said no.  There's something wrong there if we did not finish it buddy!  We watched them open the oysters after and saw how dirty the shells were and noticed that the shells had bands around them to keep the oysters from opening.  THIS PLACE IS NOT KNOWN FOR THE OYSTERS!\\n\\nWe also had New England Clam Chowder and Chicken Gumbo.  These came out a lot better.  I've never had Gumbo but my boyfriend said it was decently good.  I am a fan of clam chowder, and it was good, nothing amazing.  So the rest of the food must be the talk of the joint.\\n\\nThe service, it was mehhh.  I swear the cook in front of us looked miserable, took some time for us to have a server attend to us the couple times we needed something..\\n\\nDefinitely will not be back..\n",
      "Model prediction (trained):  [[{'label': 'LABEL_0', 'score': 0.8574913144111633}]]\n",
      "Label  1\n",
      "Review Text This place is really amazing.  Everything about it was really great: service, ambiance, food, desert, drinks.  I had the soup, which is amazing.  I then had the deer medallions and the cheesecake to finish.  Everything tasted REALLY great and the prices were reasonable.  If you are in the area this is a MUST visit restaurant.\n",
      "Model prediction (trained):  [[{'label': 'LABEL_4', 'score': 0.7544708847999573}]]\n",
      "Label  4\n",
      "Review Text Boneless Wings had a tasty sauce, but not enough sauce and too much coating for my taste.\n",
      "Model prediction (trained):  [[{'label': 'LABEL_2', 'score': 0.662854015827179}]]\n",
      "Label  1\n",
      "Review Text Oh Lush how I love thee. I was fortunate to discover Lush in 2000 while traveling in Sweden. At that time I bought as much as I could fit into my backpack and brought it back to the States! Yes I was a Lush smuggler.Every time I returned to Europe I bought all the Lush products I could. I think since 2000 I have been to a Lush store in over 12 countries! Even Iceland had a store before the US did!\\nSince I was traveling a decent amount my favorite product was and still is their shampoo bars. They are great to pack since they don't take up much space and you don't have to worry about the liquid ban!\\n\\nOne negative thing is that Lush will discontinue items- including my favorite shampoo bar ever- Jumping Juniper =(\\n\\nThere is an amazing sale after Christmas where their poxed sets are buy 1 get 2 free!!!\\n\\nThe only reason I can't give the store 5 stars is the odor. Some people really like the smell in the store, but for me it is overpowering and I have to leave the store for a few min. while shopping in order to breathe. A larger store doesn't smell quite as strong as the FS store. I think more ventilation is in order. \\n\\nBut overall go forth and shop!\n",
      "Model prediction (trained):  [[{'label': 'LABEL_4', 'score': 0.8259430527687073}]]\n",
      "Label  3\n"
     ]
    }
   ],
   "source": [
    "for n in range(0,20):\n",
    "    print(\"Review Text\",small_validation_dataset[n][\"text\"])\n",
    "    print(\"Model prediction (trained): \", pipe_trained(small_validation_dataset[n][\"text\"][:512]))\n",
    "    #print(\"Model prediction (base)\", pipe_base(small_validation_dataset[n][\"text\"][:512]))\n",
    "    print(\"Label \", small_validation_dataset[n][\"label\"])"
   ]
  },
  {
   "cell_type": "code",
   "execution_count": null,
   "metadata": {},
   "outputs": [],
   "source": [
    "small_validation_dataset"
   ]
  },
  {
   "cell_type": "code",
   "execution_count": null,
   "metadata": {},
   "outputs": [],
   "source": [
    "len(small_validation_dataset[0][\"text\"])"
   ]
  },
  {
   "cell_type": "code",
   "execution_count": null,
   "metadata": {},
   "outputs": [],
   "source": []
  }
 ],
 "metadata": {
  "colab": {
   "provenance": [
    {
     "file_id": "https://github.com/huggingface/notebooks/blob/main/transformers_doc/en/training.ipynb",
     "timestamp": 1700680154141
    }
   ],
   "toc_visible": true
  },
  "kernelspec": {
   "display_name": "Python 3 (ipykernel)",
   "language": "python",
   "name": "python3"
  },
  "language_info": {
   "codemirror_mode": {
    "name": "ipython",
    "version": 3
   },
   "file_extension": ".py",
   "mimetype": "text/x-python",
   "name": "python",
   "nbconvert_exporter": "python",
   "pygments_lexer": "ipython3",
   "version": "3.10.6"
  }
 },
 "nbformat": 4,
 "nbformat_minor": 4
}
