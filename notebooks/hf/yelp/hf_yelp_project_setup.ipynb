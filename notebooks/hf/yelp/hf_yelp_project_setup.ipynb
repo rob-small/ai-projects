{
 "cells": [
  {
   "cell_type": "code",
   "execution_count": 1,
   "id": "4bcb6835",
   "metadata": {},
   "outputs": [],
   "source": [
    "from mlflow import MlflowClient"
   ]
  },
  {
   "cell_type": "code",
   "execution_count": 2,
   "id": "0641ebc6",
   "metadata": {},
   "outputs": [],
   "source": [
    "client = MlflowClient(tracking_uri=\"http://mlserver:8080\")"
   ]
  },
  {
   "cell_type": "code",
   "execution_count": 5,
   "id": "447b6bab",
   "metadata": {},
   "outputs": [],
   "source": [
    "experiment_description = (\n",
    "    \"This is the Yelp review classification project. It compares the effectiveness of different HuggingFace-sourced models.\"\n",
    "    )\n",
    "\n",
    "experiment_tags = {\n",
    "    \"project_name\": \"yelp reviews\",\n",
    "    \"mlflow.note.content\": experiment_description,\n",
    "}\n",
    "\n",
    "produce_apples_experiment = client.create_experiment(name=\"Yelp\", tags=experiment_tags)"
   ]
  }
 ],
 "metadata": {
  "kernelspec": {
   "display_name": "Python 3 (ipykernel)",
   "language": "python",
   "name": "python3"
  },
  "language_info": {
   "codemirror_mode": {
    "name": "ipython",
    "version": 3
   },
   "file_extension": ".py",
   "mimetype": "text/x-python",
   "name": "python",
   "nbconvert_exporter": "python",
   "pygments_lexer": "ipython3",
   "version": "3.10.6"
  }
 },
 "nbformat": 4,
 "nbformat_minor": 5
}
