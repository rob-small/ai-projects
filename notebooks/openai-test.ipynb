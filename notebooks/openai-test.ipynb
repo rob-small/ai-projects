{
 "cells": [
  {
   "cell_type": "code",
   "execution_count": 1,
   "id": "229e4d53-2082-419f-bd9d-5aa19a0faf02",
   "metadata": {},
   "outputs": [],
   "source": [
    "import os\n",
    "import openai"
   ]
  },
  {
   "cell_type": "code",
   "execution_count": 2,
   "id": "fdbafd73-1abc-4fee-8721-1a24c8548b85",
   "metadata": {},
   "outputs": [],
   "source": [
    " msg_payload=[\n",
    "        {\"role\": \"system\", \"content\": \"You are a helpful assistant.\"},\n",
    "        {\"role\": \"user\", \"content\": \"Who won the world series in 2020?\"},\n",
    "        {\"role\": \"assistant\", \"content\": \"The Los Angeles Dodgers won the World Series in 2020.\"},\n",
    "        {\"role\": \"user\", \"content\": \"Where was it played?\"}\n",
    "    ]"
   ]
  },
  {
   "cell_type": "code",
   "execution_count": 3,
   "id": "5c1e9013-4741-476e-a53c-db811b560db0",
   "metadata": {},
   "outputs": [],
   "source": [
    "openai.api_key = os.getenv(\"OPENAI_API_KEY\")"
   ]
  },
  {
   "cell_type": "code",
   "execution_count": 5,
   "id": "221042eb-9bc3-4e1b-bb27-3a97dfe99ab8",
   "metadata": {},
   "outputs": [],
   "source": [
    "response = openai.ChatCompletion.create(\n",
    "  model=\"gpt-3.5-turbo\",\n",
    "  messages=msg_payload,\n",
    "  temperature=0,\n",
    "  max_tokens=256\n",
    ")"
   ]
  },
  {
   "cell_type": "code",
   "execution_count": 7,
   "id": "496fcdb6-d847-4ceb-a610-af94301e2354",
   "metadata": {},
   "outputs": [
    {
     "data": {
      "text/plain": [
       "<OpenAIObject chat.completion id=chatcmpl-82qKQxGbHgteQ620dC1U5KSiqG10e at 0x7f9d787340b0> JSON: {\n",
       "  \"id\": \"chatcmpl-82qKQxGbHgteQ620dC1U5KSiqG10e\",\n",
       "  \"object\": \"chat.completion\",\n",
       "  \"created\": 1695688498,\n",
       "  \"model\": \"gpt-3.5-turbo-0613\",\n",
       "  \"choices\": [\n",
       "    {\n",
       "      \"index\": 0,\n",
       "      \"message\": {\n",
       "        \"role\": \"assistant\",\n",
       "        \"content\": \"The 2020 World Series was played at Globe Life Field in Arlington, Texas.\"\n",
       "      },\n",
       "      \"finish_reason\": \"stop\"\n",
       "    }\n",
       "  ],\n",
       "  \"usage\": {\n",
       "    \"prompt_tokens\": 53,\n",
       "    \"completion_tokens\": 17,\n",
       "    \"total_tokens\": 70\n",
       "  }\n",
       "}"
      ]
     },
     "execution_count": 7,
     "metadata": {},
     "output_type": "execute_result"
    }
   ],
   "source": [
    "response"
   ]
  },
  {
   "cell_type": "code",
   "execution_count": null,
   "id": "4fc8ee9b-dbdf-4399-a6ab-7f2ac1177207",
   "metadata": {},
   "outputs": [],
   "source": []
  }
 ],
 "metadata": {
  "kernelspec": {
   "display_name": "Python 3 (ipykernel)",
   "language": "python",
   "name": "python3"
  },
  "language_info": {
   "codemirror_mode": {
    "name": "ipython",
    "version": 3
   },
   "file_extension": ".py",
   "mimetype": "text/x-python",
   "name": "python",
   "nbconvert_exporter": "python",
   "pygments_lexer": "ipython3",
   "version": "3.11.5"
  }
 },
 "nbformat": 4,
 "nbformat_minor": 5
}
